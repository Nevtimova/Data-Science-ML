{
 "cells": [
  {
   "cell_type": "markdown",
   "id": "23c63ccd-67dd-4b13-8b75-9548d0db7882",
   "metadata": {},
   "source": [
    "# Facial Landmark Detection Traits\n"
   ]
  },
  {
   "cell_type": "code",
   "execution_count": null,
   "id": "17d0cd1d-a52d-4a72-ba82-0bb500f70e97",
   "metadata": {},
   "outputs": [],
   "source": [
    "# Import necessary libraries\n",
    "import cv2\n",
    "import mediapipe as mp\n",
    "import numpy as np\n",
    "import matplotlib.pyplot as plt"
   ]
  },
  {
   "cell_type": "code",
   "execution_count": null,
   "id": "064269fb-6e63-4adc-aa5a-0c7f241d7d26",
   "metadata": {},
   "outputs": [],
   "source": [
    "# Initialize MediaPipe Face Mesh\n",
    "mp_face_mesh = mp.solutions.face_mesh\n",
    "face_mesh = mp_face_mesh.FaceMesh(static_image_mode=True)# Initialize MediaPipe Face Mesh\n",
    "mp_face_mesh = mp.solutions.face_mesh\n",
    "face_mesh = mp_face_mesh.FaceMesh(static_image_mode=True)"
   ]
  },
  {
   "cell_type": "code",
   "execution_count": null,
   "id": "0cda85ef-0b81-4f5e-b782-5784f8add928",
   "metadata": {},
   "outputs": [],
   "source": [
    "# Drawing utilities for visualization (optional)\n",
    "mp_drawing = mp.solutions.drawing_utils\n",
    "mp_drawing_styles = mp.solutions.drawing_styles"
   ]
  },
  {
   "cell_type": "code",
   "execution_count": null,
   "id": "db34ee84-cc99-4ee5-a72e-9b93c194094b",
   "metadata": {},
   "outputs": [],
   "source": [
    "# Load an image with a face\n",
    "image_path = 'your_path_picture.jpg'\n",
    "image = cv2.imread(image_path)\n",
    "rgb_image = cv2.cvtColor(image, cv2.COLOR_BGR2RGB)"
   ]
  },
  {
   "cell_type": "code",
   "execution_count": null,
   "id": "0d5f4c76-b012-4bd1-8570-8b3473824914",
   "metadata": {},
   "outputs": [],
   "source": [
    "# Process the image to detect face landmarks\n",
    "results = face_mesh.process(rgb_image)"
   ]
  },
  {
   "cell_type": "code",
   "execution_count": null,
   "id": "92e8d019-3d5d-4c7f-aca1-f26edfa2b489",
   "metadata": {},
   "outputs": [],
   "source": [
    "# Check if face is detected\n",
    "if results.multi_face_landmarks:\n",
    "    for face_landmarks in results.multi_face_landmarks:\n",
    "        # Draw landmarks on the image (optional)\n",
    "        annotated_image = rgb_image.copy()\n",
    "        mp_drawing.draw_landmarks(\n",
    "            image=annotated_image,\n",
    "            landmark_list=face_landmarks,\n",
    "            connections=mp_face_mesh.FACEMESH_TESSELATION,\n",
    "            landmark_drawing_spec=None,\n",
    "            connection_drawing_spec=mp_drawing_styles\n",
    "                .get_default_face_mesh_tesselation_style())"
   ]
  },
  {
   "cell_type": "code",
   "execution_count": null,
   "id": "c44863da-03a4-4e61-9c5d-3e4a1bed22ef",
   "metadata": {},
   "outputs": [],
   "source": [
    "        # Extract coordinates of key facial points\n",
    "        h, w, _ = rgb_image.shape\n",
    "        landmark_points = []\n",
    "        for lm in face_landmarks.landmark:\n",
    "            x, y = int(lm.x * w), int(lm.y * h)\n",
    "            landmark_points.append((x, y))"
   ]
  },
  {
   "cell_type": "code",
   "execution_count": null,
   "id": "762c9d87-56dd-4504-ad57-f7dea774bc75",
   "metadata": {},
   "outputs": [],
   "source": [
    "        # Example: Calculate distance between both eyes (landmark 33 & 263)\n",
    "        left_eye = landmark_points[33]\n",
    "        right_eye = landmark_points[263]\n",
    "        eye_distance = np.linalg.norm(np.array(left_eye) - np.array(right_eye))\n",
    "        print(f\"Interocular Distance (pixels): {eye_distance:.2f}\")"
   ]
  },
  {
   "cell_type": "code",
   "execution_count": null,
   "id": "2baa0c95-4c27-4b82-85e9-9448c43f67e5",
   "metadata": {},
   "outputs": [],
   "source": [
    "        # Example: Nose length (from landmark 1 to 168)\n",
    "        nose_top = landmark_points[1]\n",
    "        nose_tip = landmark_points[168]\n",
    "        nose_length = np.linalg.norm(np.array(nose_top) - np.array(nose_tip))\n",
    "        print(f\"Nose Length (pixels): {nose_length:.2f}\")"
   ]
  },
  {
   "cell_type": "code",
   "execution_count": null,
   "id": "339fc8f9-56c4-4f1f-ac73-dbbbe668c962",
   "metadata": {},
   "outputs": [],
   "source": [
    "        # Example: Jaw width (landmark 234 to 454)\n",
    "        jaw_left = landmark_points[234]\n",
    "        jaw_right = landmark_points[454]\n",
    "        jaw_width = np.linalg.norm(np.array(jaw_left) - np.array(jaw_right))\n",
    "        print(f\"Jaw Width (pixels): {jaw_width:.2f}\")"
   ]
  },
  {
   "cell_type": "code",
   "execution_count": null,
   "id": "d31a188d-9c8b-4711-8378-bce924e95e49",
   "metadata": {},
   "outputs": [],
   "source": [
    "        # Display annotated image\n",
    "        plt.figure(figsize=(8, 6))\n",
    "        plt.imshow(cv2.cvtColor(annotated_image, cv2.COLOR_BGR2RGB))\n",
    "        plt.axis('off')\n",
    "        plt.title('Detected Facial Landmarks')\n",
    "        plt.show()"
   ]
  },
  {
   "cell_type": "code",
   "execution_count": null,
   "id": "981f0336-ad23-4d18-9408-79a7df56234c",
   "metadata": {},
   "outputs": [],
   "source": [
    "plt.imshow(cv2.applyColorMap(annotated_image, cv2.COLORMAP_JET))"
   ]
  },
  {
   "cell_type": "code",
   "execution_count": null,
   "id": "29309212-e4df-4b45-b751-6a15c4b9ef69",
   "metadata": {},
   "outputs": [],
   "source": [
    "heatmap_image = cv2.applyColorMap(annotated_image, cv2.COLORMAP_JET)\n",
    "\n",
    "plt.figure(figsize=(8, 6))\n",
    "plt.imshow(cv2.cvtColor(heatmap_image, cv2.COLOR_BGR2RGB))\n",
    "plt.axis('off')\n",
    "plt.title('Heatmap Effect on Landmarks')\n",
    "plt.show()\n"
   ]
  },
  {
   "cell_type": "code",
   "execution_count": null,
   "id": "98c88565-78a0-4a5c-8500-a6fc56410c9b",
   "metadata": {},
   "outputs": [],
   "source": [
    "# Release the face mesh process\n",
    "face_mesh.close()"
   ]
  },
  {
   "cell_type": "code",
   "execution_count": null,
   "id": "087e8113-8f05-4cd4-b282-85a69ae39de8",
   "metadata": {},
   "outputs": [],
   "source": []
  }
 ],
 "metadata": {
  "kernelspec": {
   "display_name": "Python 3 (ipykernel)",
   "language": "python",
   "name": "python3"
  },
  "language_info": {
   "codemirror_mode": {
    "name": "ipython",
    "version": 3
   },
   "file_extension": ".py",
   "mimetype": "text/x-python",
   "name": "python",
   "nbconvert_exporter": "python",
   "pygments_lexer": "ipython3",
   "version": "3.12.7"
  }
 },
 "nbformat": 4,
 "nbformat_minor": 5
}
